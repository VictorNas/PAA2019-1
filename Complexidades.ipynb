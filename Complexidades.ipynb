{
 "cells": [
  {
   "cell_type": "markdown",
   "metadata": {},
   "source": [
    "# Complexidade de Algoritmos com matplotlib.pyplot"
   ]
  },
  {
   "cell_type": "code",
   "execution_count": 29,
   "metadata": {},
   "outputs": [],
   "source": [
    "import pandas as pd\n",
    "import numpy as np\n",
    "import matplotlib.pyplot as plt\n",
    "%matplotlib inline\n",
    "\n",
    "#cria numpy com 10000 pontos do 0 a 100\n",
    "pontos = np.linspace(10,10000,10000)\n",
    "#Cria função n\n",
    "n = pontos\n",
    "#cria a função n²\n",
    "n2 = n * n\n",
    "#cria a função log(n)\n",
    "log= np.log(n)"
   ]
  },
  {
   "cell_type": "code",
   "execution_count": 33,
   "metadata": {},
   "outputs": [
    {
     "name": "stdout",
     "output_type": "stream",
     "text": [
      "Using matplotlib backend: TkAgg\n"
     ]
    }
   ],
   "source": [
    "#Cria DataFrame\n",
    "E = log *log\n",
    "I = n/log\n",
    "D = n ** 0.5\n",
    "df = pd.DataFrame({'log²': E,'n/log':I,'n^0.5':D},index=n)\n",
    "%matplotlib\n",
    "df.plot()\n",
    "plt.axis([0,10000,0,2000])\n",
    "plt.show()"
   ]
  },
  {
   "cell_type": "code",
   "execution_count": 9,
   "metadata": {},
   "outputs": [
    {
     "data": {
      "text/html": [
       "<div>\n",
       "<style scoped>\n",
       "    .dataframe tbody tr th:only-of-type {\n",
       "        vertical-align: middle;\n",
       "    }\n",
       "\n",
       "    .dataframe tbody tr th {\n",
       "        vertical-align: top;\n",
       "    }\n",
       "\n",
       "    .dataframe thead th {\n",
       "        text-align: right;\n",
       "    }\n",
       "</style>\n",
       "<table border=\"1\" class=\"dataframe\">\n",
       "  <thead>\n",
       "    <tr style=\"text-align: right;\">\n",
       "      <th></th>\n",
       "      <th>10(n^pi)</th>\n",
       "      <th>log(n)</th>\n",
       "      <th>log(n²)</th>\n",
       "      <th>0.005 n^0.00001</th>\n",
       "      <th>1000*(log(n))²</th>\n",
       "      <th>30n³(log(n))</th>\n",
       "    </tr>\n",
       "  </thead>\n",
       "  <tbody>\n",
       "    <tr>\n",
       "      <th>999996.0</th>\n",
       "      <td>7.072134e+19</td>\n",
       "      <td>13.815507</td>\n",
       "      <td>27.631013</td>\n",
       "      <td>63.095659</td>\n",
       "      <td>190868.221453</td>\n",
       "      <td>4.144602e+20</td>\n",
       "    </tr>\n",
       "    <tr>\n",
       "      <th>999997.0</th>\n",
       "      <td>7.072156e+19</td>\n",
       "      <td>13.815508</td>\n",
       "      <td>27.631015</td>\n",
       "      <td>63.095678</td>\n",
       "      <td>190868.249084</td>\n",
       "      <td>4.144615e+20</td>\n",
       "    </tr>\n",
       "    <tr>\n",
       "      <th>999998.0</th>\n",
       "      <td>7.072178e+19</td>\n",
       "      <td>13.815509</td>\n",
       "      <td>27.631017</td>\n",
       "      <td>63.095697</td>\n",
       "      <td>190868.276715</td>\n",
       "      <td>4.144628e+20</td>\n",
       "    </tr>\n",
       "    <tr>\n",
       "      <th>999999.0</th>\n",
       "      <td>7.072200e+19</td>\n",
       "      <td>13.815510</td>\n",
       "      <td>27.631019</td>\n",
       "      <td>63.095716</td>\n",
       "      <td>190868.304346</td>\n",
       "      <td>4.144640e+20</td>\n",
       "    </tr>\n",
       "    <tr>\n",
       "      <th>1000000.0</th>\n",
       "      <td>7.072223e+19</td>\n",
       "      <td>13.815511</td>\n",
       "      <td>27.631021</td>\n",
       "      <td>63.095734</td>\n",
       "      <td>190868.331977</td>\n",
       "      <td>4.144653e+20</td>\n",
       "    </tr>\n",
       "  </tbody>\n",
       "</table>\n",
       "</div>"
      ],
      "text/plain": [
       "               10(n^pi)     log(n)    log(n²)  0.005 n^0.00001  \\\n",
       "999996.0   7.072134e+19  13.815507  27.631013        63.095659   \n",
       "999997.0   7.072156e+19  13.815508  27.631015        63.095678   \n",
       "999998.0   7.072178e+19  13.815509  27.631017        63.095697   \n",
       "999999.0   7.072200e+19  13.815510  27.631019        63.095716   \n",
       "1000000.0  7.072223e+19  13.815511  27.631021        63.095734   \n",
       "\n",
       "           1000*(log(n))²  30n³(log(n))  \n",
       "999996.0    190868.221453  4.144602e+20  \n",
       "999997.0    190868.249084  4.144615e+20  \n",
       "999998.0    190868.276715  4.144628e+20  \n",
       "999999.0    190868.304346  4.144640e+20  \n",
       "1000000.0   190868.331977  4.144653e+20  "
      ]
     },
     "execution_count": 9,
     "metadata": {},
     "output_type": "execute_result"
    }
   ],
   "source": [
    "#Cria DataFrame\n",
    "A = 10 *(n**(np.pi))\n",
    "B = log\n",
    "C = np.log(n2)\n",
    "D =  (n**(0.3))\n",
    "E = 1000 * log * log\n",
    "F = 30 * n2 *n * log\n",
    "G = 50* n * log * log\n",
    "H = (log)**log\n",
    "df = pd.DataFrame({'10(n^pi)': A,'log(n)':B,'log(n²)':C,'0.005 n^0.00001':D,'1000*(log(n))²':E,'30n³(log(n))':F},index=n)\n",
    "df.tail()"
   ]
  },
  {
   "cell_type": "code",
   "execution_count": 16,
   "metadata": {},
   "outputs": [
    {
     "name": "stdout",
     "output_type": "stream",
     "text": [
      "Using matplotlib backend: TkAgg\n"
     ]
    }
   ],
   "source": [
    "%matplotlib\n",
    "df.plot()\n",
    "plt.axis([0,100,0,100])\n",
    "plt.show()"
   ]
  }
 ],
 "metadata": {
  "kernelspec": {
   "display_name": "Python 3",
   "language": "python",
   "name": "python3"
  },
  "language_info": {
   "codemirror_mode": {
    "name": "ipython",
    "version": 3
   },
   "file_extension": ".py",
   "mimetype": "text/x-python",
   "name": "python",
   "nbconvert_exporter": "python",
   "pygments_lexer": "ipython3",
   "version": "3.6.7"
  }
 },
 "nbformat": 4,
 "nbformat_minor": 2
}
