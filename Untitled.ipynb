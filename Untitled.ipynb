{
 "cells": [
  {
   "cell_type": "markdown",
   "metadata": {},
   "source": [
    "# Algoritmo Particiona"
   ]
  },
  {
   "cell_type": "code",
   "execution_count": 1,
   "metadata": {},
   "outputs": [],
   "source": [
    "import random"
   ]
  },
  {
   "cell_type": "code",
   "execution_count": 13,
   "metadata": {},
   "outputs": [
    {
     "name": "stdout",
     "output_type": "stream",
     "text": [
      "[9, 1, 7, 6, 2, 10, 4, 5, 3, 8]\n"
     ]
    }
   ],
   "source": [
    "#Gera vetor ordenado [1,...,tam] ou vetor aleatório com repetição.\n",
    "def gera_vetor(tam, rand = False):\n",
    "    vet = []\n",
    "    for i in range(tam):\n",
    "        if rand:\n",
    "            vet.append(random.randint(1,tam)) \n",
    "        else:    \n",
    "            vet.append(i) \n",
    "    return vet\n",
    "#Gera Vetor aleatorio sem repetição de valor \n",
    "def vetor_sr(tam):\n",
    "    vet=[]\n",
    "    while len(vet) != tam:\n",
    "        num = random.randint(1,tam)\n",
    "        if num not in vet:\n",
    "            vet.append(num)\n",
    "    return vet        "
   ]
  },
  {
   "cell_type": "code",
   "execution_count": 162,
   "metadata": {},
   "outputs": [],
   "source": [
    "#Dado um vetor de tamanho n e um pivo x divide o vetor em [0,..,i] e [i+1,..,n]. De modo \n",
    "# que todos os elementos [0,...,i] são menores que o pivo e [i+1,...,n] maiores\n",
    "def particiona(vet,ini,fim):\n",
    "    pivo = vet[fim]\n",
    "    i = ini \n",
    "    for j in range(ini,fim):\n",
    "        if(vet[j]<= pivo):\n",
    "            aux = vet[i]\n",
    "            vet[i] =vet[j]\n",
    "            vet[j] = aux\n",
    "            i += 1\n",
    "    aux = vet[i]\n",
    "    vet[i] =vet[fim]\n",
    "    vet[fim] = aux\n",
    "    return i"
   ]
  },
  {
   "cell_type": "code",
   "execution_count": 169,
   "metadata": {},
   "outputs": [],
   "source": [
    "def quick_sort(A,ini,fim):\n",
    "    if ini < fim :\n",
    "        i = particiona(A,ini, fim)\n",
    "        quick_sort(A,ini,i-1)\n",
    "        quick_sort(A,i+1,fim)"
   ]
  },
  {
   "cell_type": "code",
   "execution_count": 193,
   "metadata": {},
   "outputs": [
    {
     "name": "stdout",
     "output_type": "stream",
     "text": [
      "[1, 14, 3, 7, 15, 4, 12, 8, 13, 9, 6, 2, 11, 5, 10]\n",
      "[1, 2, 3, 4, 5, 6, 7, 8, 9, 10, 11, 12, 13, 14, 15]\n"
     ]
    }
   ],
   "source": [
    "A = vetor_sr(15)\n",
    "print(A)\n",
    "quick_sort(A,0,14)\n",
    "print(A)"
   ]
  },
  {
   "cell_type": "code",
   "execution_count": 97,
   "metadata": {},
   "outputs": [
    {
     "name": "stdout",
     "output_type": "stream",
     "text": [
      "[4, 8, 5, 9, 2, 1, 7, 6, 3]\n",
      "[2, 1]\n",
      "[3, 9, 4, 8, 7, 6, 5]\n"
     ]
    }
   ],
   "source": [
    "print(A[:i])\n",
    "j = particiona(A,1,i)\n",
    "print(A[:j])\n",
    "print(A[j:i])"
   ]
  }
 ],
 "metadata": {
  "kernelspec": {
   "display_name": "Python 3",
   "language": "python",
   "name": "python3"
  },
  "language_info": {
   "codemirror_mode": {
    "name": "ipython",
    "version": 3
   },
   "file_extension": ".py",
   "mimetype": "text/x-python",
   "name": "python",
   "nbconvert_exporter": "python",
   "pygments_lexer": "ipython3",
   "version": "3.7.1"
  }
 },
 "nbformat": 4,
 "nbformat_minor": 2
}
